{
  "nbformat": 4,
  "nbformat_minor": 0,
  "metadata": {
    "colab": {
      "provenance": [],
      "authorship_tag": "ABX9TyPxj2qW65cedZg/0oFmbM1R",
      "include_colab_link": true
    },
    "kernelspec": {
      "name": "python3",
      "display_name": "Python 3"
    },
    "language_info": {
      "name": "python"
    }
  },
  "cells": [
    {
      "cell_type": "markdown",
      "metadata": {
        "id": "view-in-github",
        "colab_type": "text"
      },
      "source": [
        "<a href=\"https://colab.research.google.com/github/Sg0107/tip-calculcator-start/blob/main/FinaldigitRecognition.ipynb\" target=\"_parent\"><img src=\"https://colab.research.google.com/assets/colab-badge.svg\" alt=\"Open In Colab\"/></a>"
      ]
    },
    {
      "cell_type": "code",
      "execution_count": 18,
      "metadata": {
        "colab": {
          "base_uri": "https://localhost:8080/",
          "height": 125
        },
        "id": "C3VAFj88NzUX",
        "outputId": "80c51e9a-a38a-4d1a-ae88-50fbafa63e49"
      },
      "outputs": [
        {
          "output_type": "stream",
          "name": "stdout",
          "text": [
            "Accuracy = 97.86\n"
          ]
        },
        {
          "output_type": "display_data",
          "data": {
            "text/plain": [
              "<PIL.Image.Image image mode=L size=28x28 at 0x7F42690F4FD0>"
            ],
            "image/png": "[encoded data removed]"
          },
          "metadata": {}
        },
        {
          "output_type": "stream",
          "name": "stdout",
          "text": [
            "5\n"
          ]
        },
        {
          "output_type": "display_data",
          "data": {
            "text/plain": [
              "<PIL.Image.Image image mode=L size=28x28 at 0x7F42690F4FD0>"
            ],
            "image/png": "[encoded data removed]"
          },
          "metadata": {}
        },
        {
          "output_type": "stream",
          "name": "stdout",
          "text": [
            "5\n"
          ]
        }
      ],
      "source": [
        "import torch as th\n",
        "import torch.nn as nn\n",
        "import torchvision\n",
        "import torchvision.transforms as transforms\n",
        "import matplotlib.pyplot as plt\n",
        "import cv2\n",
        "from google.colab.patches import cv2_imshow\n",
        "\n",
        "device = th.device('cuda' if th.cuda.is_available() else 'cpu')\n",
        "\n",
        "its = 784\n",
        "hs1 = 250\n",
        "hs2 = 500\n",
        "hs3 = 250\n",
        "noc = 10\n",
        "noe = 10\n",
        "bs = 100\n",
        "lgre = 0.001\n",
        "\n",
        "train_dataset = torchvision.datasets.MNIST(\n",
        "    root = './data' ,\n",
        "    train = True,\n",
        "    transform = transforms.ToTensor(),\n",
        "    download=True\n",
        ")\n",
        "\n",
        "test_dataset = torchvision.datasets.MNIST(\n",
        "    root = './data',\n",
        "    train = False,\n",
        "    transform = transforms.ToTensor()\n",
        ")\n",
        "\n",
        "train_loader = th.utils.data.DataLoader(\n",
        "    dataset = train_dataset,\n",
        "    batch_size = bs,\n",
        "    shuffle = True\n",
        ")\n",
        "\n",
        "test_loader = th.utils.data.DataLoader(\n",
        "    dataset = test_dataset,\n",
        "    batch_size = bs,\n",
        "    shuffle = False\n",
        ")\n",
        "\n",
        "\n",
        "class neuralnet(nn.Module):\n",
        "  def __init__(self, its,hs1,hs2,hs3,noc):\n",
        "    super(neuralnet, self).__init__()\n",
        "    self.l1 = nn.Linear(its,hs1)\n",
        "    self.relu1 = nn.ReLU()\n",
        "    self.l2 = nn.Linear(hs1,hs2)\n",
        "    self.relu2 = nn.ReLU()\n",
        "    self.l3 = nn.Linear(hs2,hs3)\n",
        "    self.relu3 = nn.ReLU()\n",
        "    self.l4 = nn.Linear(hs3,noc)\n",
        "\n",
        "  def forward(self,x):\n",
        "    out=self.l1(x)\n",
        "    out=self.relu1(out)\n",
        "    out=self.l2(out)\n",
        "    out=self.relu2(out)\n",
        "    out=self.l3(out)\n",
        "    out=self.relu3(out)\n",
        "    out=self.l4(out)\n",
        "    return out\n",
        "\n",
        "model = neuralnet(its,hs1,hs2,hs3,noc)\n",
        "lf = nn.CrossEntropyLoss()\n",
        "om = th.optim.Adam(model.parameters(),lr = lgre)\n",
        "\n",
        "nts=len(train_loader)\n",
        "for epoch in range(noe):\n",
        "  for i, (images,labels) in enumerate(train_loader):\n",
        "    images = images.reshape(-1,28*28).to(device)\n",
        "    labels = labels.to(device)\n",
        "\n",
        "    output=model(images)\n",
        "    loss = lf(output,labels)\n",
        "\n",
        "    om.zero_grad()\n",
        "    loss.backward()\n",
        "    om.step()\n",
        "\n",
        "\n",
        "with th.no_grad():\n",
        "  ncor = 0\n",
        "  nsam = 0\n",
        "  for images, labels in test_loader:\n",
        "    images = images.reshape(-1,28*28).to(device)\n",
        "    labels = labels.to(device)\n",
        "    output = model(images)\n",
        "\n",
        "    _,pred  = th.max(output,1)\n",
        "    nsam += labels.shape[0]\n",
        "    ncor += (pred == labels).sum().item()\n",
        "\n",
        "acc = 100*ncor/nsam\n",
        "print(f'Accuracy = {acc}')\n",
        "\n",
        "i1 = cv2.imread('/content/0.jpg')\n",
        "r1 =cv2.cvtColor(i1, cv2.COLOR_BGR2GRAY)\n",
        "r1 = cv2.resize(r1, dsize=(28,28), interpolation=cv2.INTER_CUBIC)\n",
        "cv2_imshow(r1)\n",
        "r1 = r1.reshape(-1,28*28)\n",
        "with th.no_grad():\n",
        "    i_t1 = th.from_numpy(r1)\n",
        "    i_t1 = i_t1.float().to(device)  # Convert to float and move to the device\n",
        "    output = model(i_t1)\n",
        "    _, pred1 = th.max(output, 1)\n",
        "    print(pred1.item())\n",
        "\n",
        "\n",
        "i1_1 = cv2.imread('/content/6.jpg')\n",
        "r1_1 =cv2.cvtColor(i1_1, cv2.COLOR_BGR2GRAY)\n",
        "r1_1 = cv2.resize(r1_1, dsize=(28,28), interpolation=cv2.INTER_CUBIC)\n",
        "cv2_imshow(r1_1)\n",
        "r1_1 = r1_1.reshape(-1,28*28)\n",
        "with th.no_grad():\n",
        "    i_t1_1 = th.from_numpy(r1_1)\n",
        "    i_t1_1 = i_t1_1.float().to(device)  # Convert to float and move to the device\n",
        "    output_1 = model(i_t1_1)\n",
        "    _, pred1_1 = th.max(output_1, 1)\n",
        "    print(pred1_1.item())"
      ]
    },
    {
      "cell_type": "code",
      "source": [
        "i1 = cv2.imread('/content/3.jpg')\n",
        "r1 =cv2.cvtColor(i1, cv2.COLOR_BGR2GRAY)\n",
        "r1 = cv2.resize(r1, dsize=(28,28), interpolation=cv2.INTER_CUBIC)\n",
        "cv2_imshow(r1)\n",
        "r1 = r1.reshape(-1,28*28)\n",
        "with th.no_grad():\n",
        "    i_t1 = th.from_numpy(r1)\n",
        "    i_t1 = i_t1.float().to(device)  # Convert to float and move to the device\n",
        "    output = model(i_t1)\n",
        "    _, pred1 = th.max(output, 1)\n",
        "    print(pred1.item())"
      ],
      "metadata": {
        "colab": {
          "base_uri": "https://localhost:8080/",
          "height": 62
        },
        "id": "zfBPupX_eI54",
        "outputId": "c1f14223-7b56-401a-b1cb-173a828a4728"
      },
      "execution_count": 13,
      "outputs": [
        {
          "output_type": "display_data",
          "data": {
            "text/plain": [
              "<PIL.Image.Image image mode=L size=28x28 at 0x7F427308BFD0>"
            ],
            "image/png": "[encoded data removed]"
          },
          "metadata": {}
        },
        {
          "output_type": "stream",
          "name": "stdout",
          "text": [
            "5\n"
          ]
        }
      ]
    },
    {
      "cell_type": "code",
      "source": [],
      "metadata": {
        "id": "G1q_rF25eQe7"
      },
      "execution_count": null,
      "outputs": []
    }
  ]
}