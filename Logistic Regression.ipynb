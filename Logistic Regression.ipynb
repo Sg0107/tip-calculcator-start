{
  "nbformat": 4,
  "nbformat_minor": 0,
  "metadata": {
    "colab": {
      "provenance": [],
      "authorship_tag": "ABX9TyMHHpW/0wDVb0uDLMipJHnI",
      "include_colab_link": true
    },
    "kernelspec": {
      "name": "python3",
      "display_name": "Python 3"
    },
    "language_info": {
      "name": "python"
    }
  },
  "cells": [
    {
      "cell_type": "markdown",
      "metadata": {
        "id": "view-in-github",
        "colab_type": "text"
      },
      "source": [
        "<a href=\"https://colab.research.google.com/github/Sg0107/tip-calculcator-start/blob/main/Logistic%20Regression.ipynb\" target=\"_parent\"><img src=\"https://colab.research.google.com/assets/colab-badge.svg\" alt=\"Open In Colab\"/></a>"
      ]
    },
    {
      "cell_type": "code",
      "execution_count": null,
      "metadata": {
        "id": "IkeIP4REOjcv"
      },
      "outputs": [],
      "source": [
        "import torch as th\n",
        "import torch.nn as nn\n",
        "import numpy as np\n",
        "from sklearn import datasets\n",
        "from sklearn.preprocessing import StandardScaler\n",
        "from sklearn.model_selection import train_test_split\n",
        "import matplotlib.pyplot as plt\n",
        "\n",
        "# creating data\n",
        "x_numpy, y_numpy = datasets.make_regression(n_samples = 100,n_features = 3, noise = 20, random_state = 1)\n",
        "\n",
        "x = th.from_numpy(x_numpy.astype(np.float32))\n",
        "y = th.from_numpy(y_numpy.astype(np.float32))\n",
        "y = y.view(y.shape[0], 1)\n",
        "\n",
        "n_samples, n_features = x.shape\n",
        "# model\n",
        "input_size = n_features\n",
        "output_size = 1\n",
        "model = nn.linear(input_size, output_size)\n",
        "\n",
        "# loss and optimizer\n",
        "learning_rate = 0.01\n",
        "criterion = nn.MSELoss()\n",
        "optimizer = th.optim.SGD(model.parameters(), lr = learning_rate)\n",
        "\n",
        "# training loop\n",
        "\n"
      ]
    },
    {
      "cell_type": "code",
      "source": [
        "import torch as th\n",
        "import torch.nn as nn\n",
        "import numpy as np\n",
        "from sklearn import datasets\n",
        "from sklearn.preprocessing import StandardScaler\n",
        "from sklearn.model_selection import train_test_split\n",
        "\n",
        "# creating data\n",
        "bc = datasets.load_breast_cancer()\n",
        "x, y = bc.data, bc.target\n",
        "\n",
        "n_samples, n_features = x.shape\n",
        "\n",
        "x_trained, x_test, y_trained, y_test = train_test_split(x, y, test_size=0.2, random_state = 1234)\n",
        "# what is the use of random state and how to it works\n",
        "\n",
        "# scaling of  features\n",
        "sc = StandardScaler()\n",
        "x_trained = sc.fit_transform(x_trained)\n",
        "x_test = sc.transform(x_test)\n",
        "\n",
        "# convert numpy to torch\n",
        "\n",
        "x_trained = th.from_numpy(x_trained.astype(np.float32))\n",
        "x_test = th.from_numpy(x_test.astype(np.float32))\n",
        "y_trained = th.from_numpy(y_trained.astype(np.float32))\n",
        "y_test = th.from_numpy(y_test.astype(np.float32))\n",
        "\n",
        "# reshapping the data\n",
        "y_trained = y_trained.view(y_trained.shape[0],1)\n",
        "y_test = y_test.view(y_test.shape[0],1)\n",
        "\n",
        "class LR(nn.Module):\n",
        "  def __init__(self, n_input_features):\n",
        "    super(LR, self).__init__()\n",
        "    self.Linear = nn.Linear(n_input_features, 1)\n",
        "\n",
        "  def forward(self,x):\n",
        "    y_pred = th.sigmoid(self.Linear(x))\n",
        "    return y_pred\n",
        "\n",
        "\n",
        "model = LR(n_features)\n",
        "learning_rate = 0.01\n",
        "criterion = nn.BCELoss()\n",
        "optimizer = th.optim.SGD(model.parameters(), lr = learning_rate)\n",
        "\n",
        "# Trianing loop\n",
        "noi  = 1000\n",
        "for i in range(noi):\n",
        "  y_predicted = model(x_trained)\n",
        "  loss = criterion(y_predicted, y_trained)\n",
        "  loss.backward()\n",
        "  optimizer.step()\n",
        "  optimizer.zero_grad()\n",
        "  if(i+1)%100 == 0:\n",
        "    print(f'i: {i+1}, loss = {loss.item():.4f}')\n",
        "\n",
        "with th.no_grad():\n",
        "  y_predicted  = model(x_test)\n",
        "  y_predicted_cls = y_predicted.round()\n",
        "  acc = y_predicted_cls.eq(y_test).sum()/float(y_test.shape[0])\n",
        "  print(f'accuracy = {acc:4f}')"
      ],
      "metadata": {
        "colab": {
          "base_uri": "https://localhost:8080/"
        },
        "id": "nj9c-aLpR0Eh",
        "outputId": "5fda12fe-f67d-4690-9d1d-d9ea5d3c0150"
      },
      "execution_count": 33,
      "outputs": [
        {
          "output_type": "stream",
          "name": "stdout",
          "text": [
            "i: 100, loss = 0.2391\n",
            "i: 200, loss = 0.1762\n",
            "i: 300, loss = 0.1475\n",
            "i: 400, loss = 0.1303\n",
            "i: 500, loss = 0.1185\n",
            "i: 600, loss = 0.1099\n",
            "i: 700, loss = 0.1033\n",
            "i: 800, loss = 0.0980\n",
            "i: 900, loss = 0.0936\n",
            "i: 1000, loss = 0.0899\n",
            "accuracy = 0.947368\n"
          ]
        }
      ]
    },
    {
      "cell_type": "code",
      "source": [],
      "metadata": {
        "id": "SSTkO1tSlsHH"
      },
      "execution_count": 28,
      "outputs": []
    }
  ]
}