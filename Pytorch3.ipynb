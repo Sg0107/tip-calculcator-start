{
  "nbformat": 4,
  "nbformat_minor": 0,
  "metadata": {
    "colab": {
      "provenance": [],
      "authorship_tag": "ABX9TyM1o5+806iEk/QQX0l2BhxJ",
      "include_colab_link": true
    },
    "kernelspec": {
      "name": "python3",
      "display_name": "Python 3"
    },
    "language_info": {
      "name": "python"
    }
  },
  "cells": [
    {
      "cell_type": "markdown",
      "metadata": {
        "id": "view-in-github",
        "colab_type": "text"
      },
      "source": [
        "<a href=\"https://colab.research.google.com/github/Sg0107/tip-calculcator-start/blob/main/Pytorch3.ipynb\" target=\"_parent\"><img src=\"https://colab.research.google.com/assets/colab-badge.svg\" alt=\"Open In Colab\"/></a>"
      ]
    },
    {
      "cell_type": "code",
      "execution_count": 5,
      "metadata": {
        "colab": {
          "base_uri": "https://localhost:8080/"
        },
        "id": "SCYepAEYGaU4",
        "outputId": "4c186d01-e5f7-4635-ef33-ff255e899bfb"
      },
      "outputs": [
        {
          "output_type": "stream",
          "name": "stdout",
          "text": [
            "tensor([0.6335, 0.1971, 0.4353], requires_grad=True)\n",
            "tensor([2.6335, 2.1971, 2.4353], grad_fn=<AddBackward0>)\n",
            "tensor([13.8703,  9.6543, 11.8612], grad_fn=<MulBackward0>)\n",
            "tensor([10.5339,  8.7883,  9.7411])\n"
          ]
        }
      ],
      "source": [
        "import torch\n",
        "\n",
        "#finding gradient\n",
        "x = torch.rand(3, requires_grad = True)\n",
        "print(x)\n",
        "y = x+2\n",
        "print(y)\n",
        "z=y*y*2\n",
        "print(z)\n",
        "# v=torch.ones(3)\n",
        "z=z.mean()\n",
        "z.backward()\n",
        "print(x.grad)"
      ]
    },
    {
      "cell_type": "code",
      "source": [
        "import torch\n",
        "\n",
        "# Create a tensor with random values and enable gradient tracking\n",
        "x = torch.rand(3, requires_grad=True)\n",
        "print(\"x:\", x)\n",
        "\n",
        "# Perform a tensor operation\n",
        "y = x + 2\n",
        "print(\"y:\", y)\n",
        "\n",
        "# Perform additional tensor operations\n",
        "z = y * y * 2\n",
        "print(\"z:\", z)\n",
        "\n",
        "# Calculate the mean of tensor z\n",
        "z_mean = z.mean()\n",
        "print(\"z_mean:\", z_mean)\n",
        "\n",
        "# Perform backpropagation to compute gradients\n",
        "# dz/dx\n",
        "z_mean.backward() \n",
        "\n",
        "# Access the gradients of x\n",
        "grad_x = x.grad\n",
        "print(\"Gradient of x:\", grad_x)\n",
        "\n",
        "\n",
        "# Create a tensor with random values and enable gradient tracking\n",
        "a = x\n",
        "print(\"a:\", a)\n",
        "\n",
        "# Perform a tensor operation\n",
        "b = a + 2\n",
        "print(\"b:\", b)\n",
        "\n",
        "# Perform additional tensor operations\n",
        "c = b * b * 2\n",
        "print(\"c:\", c)\n",
        "v=torch.zeros(3)\n",
        "# Perform backpropagation to compute gradients\n",
        "c.backward(v)\n",
        "\n",
        "# Access the gradients of a\n",
        "grad_a = a.grad\n",
        "print(\"Gradient of a:\", grad_a)\n",
        "\n",
        "\n",
        "# ways to prevent this operation to happen\n",
        "# 1) x.requires_grad_(False)\n",
        "# 2) x.detach()\n",
        "# 3) with torch.no_grad():\n"
      ],
      "metadata": {
        "id": "glvsJj3cGvQX",
        "colab": {
          "base_uri": "https://localhost:8080/"
        },
        "outputId": "85dd72c2-5d9d-4c8f-8e4f-9fe7bd057127"
      },
      "execution_count": 13,
      "outputs": [
        {
          "output_type": "stream",
          "name": "stdout",
          "text": [
            "x: tensor([0.9540, 0.1998, 0.8002], requires_grad=True)\n",
            "y: tensor([2.9540, 2.1998, 2.8002], grad_fn=<AddBackward0>)\n",
            "z: tensor([17.4518,  9.6779, 15.6823], grad_fn=<MulBackward0>)\n",
            "z_mean: tensor(14.2707, grad_fn=<MeanBackward0>)\n",
            "Gradient of x: tensor([3.9386, 2.9330, 3.7336])\n",
            "a: tensor([0.9540, 0.1998, 0.8002], requires_grad=True)\n",
            "b: tensor([2.9540, 2.1998, 2.8002], grad_fn=<AddBackward0>)\n",
            "c: tensor([17.4518,  9.6779, 15.6823], grad_fn=<MulBackward0>)\n",
            "Gradient of a: tensor([3.9386, 2.9330, 3.7336])\n"
          ]
        }
      ]
    },
    {
      "cell_type": "code",
      "source": [
        "import torch\n",
        "\n",
        "weights = torch.ones(4, requires_grad=True)\n",
        "\n",
        "for epoch in range (3):\n",
        "  out = (weights*3).sum()\n",
        "\n",
        "  out.backward()\n",
        "\n",
        "  print(weights.grad)\n",
        "\n",
        "\n",
        "weight = torch.ones(4, requires_grad=True)\n",
        "\n",
        "for epoch in range (3):\n",
        "  outs = (weight*3).sum()\n",
        "\n",
        "  outs.backward()\n",
        "\n",
        "  print(weight.grad)\n",
        "  weight.grad.zero_()\n",
        "\n",
        "\n"
      ],
      "metadata": {
        "colab": {
          "base_uri": "https://localhost:8080/"
        },
        "id": "4eRNMQjDn2mF",
        "outputId": "6364cea2-a4f1-4eb4-d904-4d03f04f2435"
      },
      "execution_count": 22,
      "outputs": [
        {
          "output_type": "stream",
          "name": "stdout",
          "text": [
            "tensor([3., 3., 3., 3.])\n",
            "tensor([6., 6., 6., 6.])\n",
            "tensor([9., 9., 9., 9.])\n",
            "tensor([3., 3., 3., 3.])\n",
            "tensor([3., 3., 3., 3.])\n",
            "tensor([3., 3., 3., 3.])\n"
          ]
        }
      ]
    },
    {
      "cell_type": "code",
      "source": [],
      "metadata": {
        "id": "xJdLQxsLws4W"
      },
      "execution_count": null,
      "outputs": []
    }
  ]
}