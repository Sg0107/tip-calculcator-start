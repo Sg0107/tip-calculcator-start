{
  "nbformat": 4,
  "nbformat_minor": 0,
  "metadata": {
    "colab": {
      "provenance": [],
      "authorship_tag": "ABX9TyOJPYqweRjn22EqNZouhjiM",
      "include_colab_link": true
    },
    "kernelspec": {
      "name": "python3",
      "display_name": "Python 3"
    },
    "language_info": {
      "name": "python"
    }
  },
  "cells": [
    {
      "cell_type": "markdown",
      "metadata": {
        "id": "view-in-github",
        "colab_type": "text"
      },
      "source": [
        "<a href=\"https://colab.research.google.com/github/Sg0107/tip-calculcator-start/blob/main/pytorch5%266.ipynb\" target=\"_parent\"><img src=\"https://colab.research.google.com/assets/colab-badge.svg\" alt=\"Open In Colab\"/></a>"
      ]
    },
    {
      "cell_type": "code",
      "source": [
        "import numpy as np\n",
        "\n",
        "# Gradient Descent\n",
        "# Prediction: Manually\n",
        "# Gradients Computation: Manually\n",
        "# Loss Computation: Manually\n",
        "# Parameter updates: Manually \n",
        "def forward(x, w):\n",
        "    return w * x\n",
        "\n",
        "def loss(y_pred, y):\n",
        "    return ((y_pred - y) ** 2).mean()\n",
        "\n",
        "def grad(y, y_pred, x):\n",
        "    return (np.dot(2 * x, y_pred - y)).mean()\n",
        "\n",
        "def gradient_descent(x, y, lr, num_iterations):\n",
        "    w = 0.0\n",
        "    \n",
        "    for i in range(num_iterations):\n",
        "        y_pred = forward(x, w)\n",
        "        l = loss(y_pred, y)\n",
        "        dw = grad(y, y_pred, x)\n",
        "        w = w - lr * dw\n",
        "        if i % 1 == 0:\n",
        "            print(f'Iteration {i+1}: w = {w:.3f}, loss = {l:.3f}')\n",
        "    \n",
        "    return w\n",
        "\n",
        "x = np.array([1, 2, 3, 4], dtype=np.float32)\n",
        "y = np.array([2, 4, 6, 8], dtype=np.float32)\n",
        "learning_rate = 0.01\n",
        "num_iterations = 11\n",
        "\n",
        "\n",
        "print(f'Prediction before training: f(5) = {forward(5, 0.0):.3f}')\n",
        "trained_w = gradient_descent(x, y, learning_rate, num_iterations)\n",
        "print(f'Prediction after training: f(5) = {forward(5, trained_w):.3f}')\n"
      ],
      "metadata": {
        "id": "myZfSDW6U4wI"
      },
      "execution_count": null,
      "outputs": []
    },
    {
      "cell_type": "code",
      "source": [
        "import torch as th\n",
        "\n",
        "# Gradient Descent\n",
        "# Prediction: Manually\n",
        "# Gradients Computation: Automated\n",
        "# Loss Computation: Manually\n",
        "# Parameter updates: Manually \n",
        "def forward(x, w):\n",
        "    return w * x\n",
        "\n",
        "def loss(y_pred, y):\n",
        "    return ((y_pred - y) ** 2).mean()\n",
        "\n",
        "def gradient_descent(x, y, learning_rate, num_iterations):\n",
        "    w = th.tensor(0.0, dtype=th.float32, requires_grad=True)\n",
        "\n",
        "    for i in range(num_iterations):\n",
        "        y_pred = forward(x, w)\n",
        "        l = loss(y_pred, y)\n",
        "        l.backward()\n",
        "        \n",
        "        with th.no_grad():\n",
        "            w -= learning_rate * w.grad\n",
        "            # Using w = w - w.grad * lr would cause the parameter w to be...\n",
        "            # re-assigned to the new value, but the original w would not be...\n",
        "            # updated, therefore, the value of w would be None.\n",
        "            # On the other hand, using w -= w.grad * lr will update ...\n",
        "            # the value of w in place, so the original w will be updated...\n",
        "            # and its value will not be None.\n",
        "        \n",
        "        w.grad.zero_()\n",
        "        \n",
        "        if i % 10 == 0:\n",
        "            print(f'Iteration {i+1}: w = {w.item():.3f}, loss = {l.item():.3f}')\n",
        "    \n",
        "    return w.item()\n",
        "\n",
        "x = th.tensor([1, 2, 3, 4], dtype=th.float32)\n",
        "y = th.tensor([2, 4, 6, 8], dtype=th.float32)\n",
        "learning_rate = 0.01\n",
        "num_iterations = 100\n",
        "\n",
        "print(f'Prediction before training: f(5) = {forward(5, 0.0):.3f}')\n",
        "trained_w = gradient_descent(x, y, learning_rate, num_iterations)\n",
        "print(f'Prediction after training: f(5) = {forward(5, trained_w):.3f}')\n"
      ],
      "metadata": {
        "colab": {
          "base_uri": "https://localhost:8080/"
        },
        "id": "2F_RSaUBVXBW",
        "outputId": "5383cf95-a64a-4de6-c877-12df25f300bc"
      },
      "execution_count": 43,
      "outputs": [
        {
          "output_type": "stream",
          "name": "stdout",
          "text": [
            "Iteration 1: w = 0.300, loss = 30.000\n",
            "Iteration 11: w = 1.665, loss = 1.163\n",
            "Iteration 21: w = 1.934, loss = 0.045\n",
            "Iteration 31: w = 1.987, loss = 0.002\n",
            "Iteration 41: w = 1.997, loss = 0.000\n",
            "Iteration 51: w = 1.999, loss = 0.000\n",
            "Iteration 61: w = 2.000, loss = 0.000\n",
            "Iteration 71: w = 2.000, loss = 0.000\n",
            "Iteration 81: w = 2.000, loss = 0.000\n",
            "Iteration 91: w = 2.000, loss = 0.000\n"
          ]
        }
      ]
    },
    {
      "cell_type": "code",
      "source": [],
      "metadata": {
        "id": "5Ks0SDrAPiqu"
      },
      "execution_count": null,
      "outputs": []
    },
    {
      "cell_type": "code",
      "source": [
        "import torch as th\n",
        "import torch.nn as nn\n",
        "\n",
        "# Gradient Descent\n",
        "# Prediction: Manually\n",
        "# Gradients Computation: Automated\n",
        "# Loss Computation: Automated\n",
        "# Parameter updates: Automated \n",
        "\n",
        "def forward(x, w):\n",
        "    return w * x\n",
        "\n",
        "learning_rate = 0.01\n",
        "num_iterations = 100\n",
        "\n",
        "x = th.tensor([1, 2, 3, 4], dtype=th.float32)\n",
        "y = th.tensor([2, 4, 6, 8], dtype=th.float32)\n",
        "\n",
        "w = th.tensor(0.0, dtype=th.float32, requires_grad=True)\n",
        "\n",
        "loss_function = nn.MSELoss()                      # def loss(y_pred, y):\n",
        "optimizer = th.optim.SGD([w], lr=learning_rate)   # return ((y_pred - y) ** 2).mean()\n",
        "\n",
        "for i in range(num_iterations):\n",
        "    y_pred = forward(x, w)\n",
        "    loss = loss_function(y, y_pred)\n",
        "    loss.backward()\n",
        "    optimizer.step()                              #deacreasing the w\n",
        "    optimizer.zero_grad()                         #same as w.grad.zero\n",
        "\n",
        "    if i % 10 == 0:\n",
        "        print(f'Iteration {i+1}: w = {w.item():.3f}, loss = {loss.item():.3f}')\n"
      ],
      "metadata": {
        "colab": {
          "base_uri": "https://localhost:8080/"
        },
        "id": "ccJ2HKDcPirx",
        "outputId": "c16a2708-a749-46b2-eb27-ea87f567f534"
      },
      "execution_count": 6,
      "outputs": [
        {
          "output_type": "stream",
          "name": "stdout",
          "text": [
            "Iteration 1: w = 0.300, loss = 30.000\n",
            "Iteration 11: w = 1.665, loss = 1.163\n",
            "Iteration 21: w = 1.934, loss = 0.045\n",
            "Iteration 31: w = 1.987, loss = 0.002\n",
            "Iteration 41: w = 1.997, loss = 0.000\n",
            "Iteration 51: w = 1.999, loss = 0.000\n",
            "Iteration 61: w = 2.000, loss = 0.000\n",
            "Iteration 71: w = 2.000, loss = 0.000\n",
            "Iteration 81: w = 2.000, loss = 0.000\n",
            "Iteration 91: w = 2.000, loss = 0.000\n"
          ]
        }
      ]
    },
    {
      "cell_type": "code",
      "source": [
        "import torch as th\n",
        "import torch.nn as nn\n",
        "\n",
        "# Gradient Descent\n",
        "# Prediction: Automated\n",
        "# Gradients Computation: Automated\n",
        "# Loss Computation: Automated\n",
        "# Parameter updates: Automated \n",
        "\n",
        "learning_rate = 0.1\n",
        "num_iterations = 200\n",
        "\n",
        "x = th.tensor([[1], [2], [3], [4]], dtype=th.float32)\n",
        "y = th.tensor([[2], [4], [6], [8]], dtype=th.float32)\n",
        "x_test = th.tensor([5], dtype=th.float32)\n",
        "\n",
        "n_samples, n_features = x.shape\n",
        "\n",
        "input_size = n_features\n",
        "output_size = n_features\n",
        "\n",
        "model = nn.Linear(input_size, output_size)\n",
        "\n",
        "print(f'Prediction before training: f(5) = {model(x_test).item():.3f}')\n",
        "\n",
        "loss_function = nn.MSELoss()                                     # Define the mean squared error (MSE) loss function\n",
        "optimizer = th.optim.SGD(model.parameters(), lr=learning_rate)   # Define the SGD optimizer with learning rate\n",
        "\n",
        "for i in range(num_iterations):\n",
        "    y_pred = model(x)                   # Perform the forward pass to get predictions\n",
        "    loss = loss_function(y, y_pred)      # Compute the loss between predictions and ground truth\n",
        "    loss.backward()                     # Perform backpropagation to compute gradients\n",
        "    optimizer.step()                    # Update model parameters (weights)\n",
        "    optimizer.zero_grad()               # Reset gradients to zero for the next iteration\n",
        "\n",
        "    if i % 10 == 0:\n",
        "        [w, b] = model.parameters()\n",
        "        print(f'Iteration {i+1}: w = {w[0][0].item():.3f}, loss = {loss.item():.3f}')\n",
        "\n",
        "print(f'Prediction after training: f(5) = {model(x_test).item():.3f}')  # Make a prediction with the trained model\n"
      ],
      "metadata": {
        "id": "c7qCdNwLYpV5"
      },
      "execution_count": null,
      "outputs": []
    }
  ]
}