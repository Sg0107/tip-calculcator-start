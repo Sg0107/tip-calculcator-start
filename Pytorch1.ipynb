{
  "nbformat": 4,
  "nbformat_minor": 0,
  "metadata": {
    "colab": {
      "provenance": [],
      "authorship_tag": "ABX9TyPW3X4laGmxEsSgMuWeqhDw",
      "include_colab_link": true
    },
    "kernelspec": {
      "name": "python3",
      "display_name": "Python 3"
    },
    "language_info": {
      "name": "python"
    }
  },
  "cells": [
    {
      "cell_type": "markdown",
      "metadata": {
        "id": "view-in-github",
        "colab_type": "text"
      },
      "source": [
        "<a href=\"https://colab.research.google.com/github/Sg0107/tip-calculcator-start/blob/main/Pytorch1.ipynb\" target=\"_parent\"><img src=\"https://colab.research.google.com/assets/colab-badge.svg\" alt=\"Open In Colab\"/></a>"
      ]
    },
    {
      "cell_type": "code",
      "execution_count": null,
      "metadata": {
        "id": "5OrpoJ1wr5sh",
        "colab": {
          "base_uri": "https://localhost:8080/"
        },
        "outputId": "6ad69e6f-be58-4a6e-a3b2-402fbbd9e277"
      },
      "outputs": [
        {
          "output_type": "stream",
          "name": "stdout",
          "text": [
            "Enter two no. to add\n",
            "23\n",
            "34\n",
            "57\n"
          ]
        }
      ],
      "source": [
        "print(\"Enter two no. to add\")\n",
        "a = int(input())\n",
        "b = int(input())\n",
        "print(a+b)"
      ]
    },
    {
      "cell_type": "code",
      "source": [
        "print(\"Enter two no. to add\")\n",
        "a = int(input())\n",
        "b = int(input())\n",
        "print(a+b)"
      ],
      "metadata": {
        "id": "t7NV8xsBspqy",
        "colab": {
          "base_uri": "https://localhost:8080/"
        },
        "outputId": "cd731946-c6ed-4e5b-cc7b-0938e0dbadb6"
      },
      "execution_count": 2,
      "outputs": [
        {
          "output_type": "stream",
          "name": "stdout",
          "text": [
            "Enter two no. to add\n",
            "67\n",
            "78\n",
            "145\n"
          ]
        }
      ]
    },
    {
      "cell_type": "code",
      "source": [],
      "metadata": {
        "id": "SoBHfQmUu4pG"
      },
      "execution_count": null,
      "outputs": []
    }
  ]
}