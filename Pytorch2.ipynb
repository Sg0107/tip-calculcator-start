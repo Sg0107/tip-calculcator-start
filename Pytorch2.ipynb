{
  "nbformat": 4,
  "nbformat_minor": 0,
  "metadata": {
    "colab": {
      "provenance": [],
      "authorship_tag": "ABX9TyPMFI6tYPob+5dskns3pAbs",
      "include_colab_link": true
    },
    "kernelspec": {
      "name": "python3",
      "display_name": "Python 3"
    },
    "language_info": {
      "name": "python"
    }
  },
  "cells": [
    {
      "cell_type": "markdown",
      "metadata": {
        "id": "view-in-github",
        "colab_type": "text"
      },
      "source": [
        "<a href=\"https://colab.research.google.com/github/Sg0107/tip-calculcator-start/blob/main/Pytorch2.ipynb\" target=\"_parent\"><img src=\"https://colab.research.google.com/assets/colab-badge.svg\" alt=\"Open In Colab\"/></a>"
      ]
    },
    {
      "cell_type": "code",
      "source": [
        "import torch as th\n",
        "\n",
        "# how to create a empty tensor\n",
        "x = th.empty(2, 3, 8)\n",
        "print(x)"
      ],
      "metadata": {
        "id": "SoBHfQmUu4pG"
      },
      "execution_count": null,
      "outputs": []
    },
    {
      "cell_type": "code",
      "source": [
        "import torch as th\n",
        "\n",
        "# tensor with zeros values\n",
        "x = th.zeros(2,3)\n",
        "print(x)"
      ],
      "metadata": {
        "id": "_Y94Ra6Ov2Uo"
      },
      "execution_count": null,
      "outputs": []
    },
    {
      "cell_type": "code",
      "source": [
        "import torch as th\n",
        "\n",
        "# tensor with ones values\n",
        "x = th.ones(2,3)\n",
        "print(x)"
      ],
      "metadata": {
        "id": "Kq_8AJO-wvBJ"
      },
      "execution_count": null,
      "outputs": []
    },
    {
      "cell_type": "code",
      "source": [
        "import torch as th\n",
        "\n",
        "# To Check Data type \n",
        "x = th.rand(2,3)\n",
        "print(x.dtype)\n",
        "# printed data type is default \n",
        "\n",
        "# To Change Data type \n",
        "x = th.rand(2,3,dtype=th.float64)\n",
        "print(x.dtype)\n",
        "\n",
        "# To find size of tensor\n",
        "x = th.ones(2,3)\n",
        "print(x.size())"
      ],
      "metadata": {
        "colab": {
          "base_uri": "https://localhost:8080/"
        },
        "id": "kw2bO5o6w811",
        "outputId": "2dff4fbd-c8a3-482f-c711-363e3e777fa7"
      },
      "execution_count": 21,
      "outputs": [
        {
          "output_type": "stream",
          "name": "stdout",
          "text": [
            "torch.float32\n",
            "torch.float64\n",
            "torch.Size([2, 3])\n"
          ]
        }
      ]
    },
    {
      "cell_type": "code",
      "source": [
        "import torch as th\n",
        "\n",
        "# Manually entering data\n",
        "x = th.tensor([2.5,0.1])\n",
        "print(x)"
      ],
      "metadata": {
        "colab": {
          "base_uri": "https://localhost:8080/"
        },
        "id": "yr5OvGQFyPIY",
        "outputId": "c4c2154b-5e7a-478f-d948-25b4628e4c31"
      },
      "execution_count": 22,
      "outputs": [
        {
          "output_type": "stream",
          "name": "stdout",
          "text": [
            "tensor([2.5000, 0.1000])\n"
          ]
        }
      ]
    },
    {
      "cell_type": "code",
      "source": [
        "import torch as th\n",
        "\n",
        "# Basic Operations on tensors\n",
        "x = th.rand(2,3)\n",
        "y = th.rand(2,3)\n",
        "print(x)\n",
        "print(y)\n",
        "z = x+y\n",
        "print(z)\n",
        "a = th.add(x,y)\n",
        "print(a)\n",
        "y.add_(x)\n",
        "print(y)"
      ],
      "metadata": {
        "colab": {
          "base_uri": "https://localhost:8080/"
        },
        "id": "zfmL8dD5zjl_",
        "outputId": "e103c32c-0053-4eda-ce9d-e5fa18b035a7"
      },
      "execution_count": 27,
      "outputs": [
        {
          "output_type": "stream",
          "name": "stdout",
          "text": [
            "tensor([[0.3259, 0.3992, 0.7775],\n",
            "        [0.8256, 0.3004, 0.6473]])\n",
            "tensor([[0.6914, 0.1561, 0.0262],\n",
            "        [0.8054, 0.3648, 0.1017]])\n",
            "tensor([[1.0173, 0.5554, 0.8037],\n",
            "        [1.6310, 0.6652, 0.7491]])\n",
            "tensor([[1.0173, 0.5554, 0.8037],\n",
            "        [1.6310, 0.6652, 0.7491]])\n",
            "tensor([[1.0173, 0.5554, 0.8037],\n",
            "        [1.6310, 0.6652, 0.7491]])\n"
          ]
        }
      ]
    },
    {
      "cell_type": "code",
      "source": [
        "import torch as th\n",
        "\n",
        "# Slicing of arrays\n",
        "x = th.rand(5,3)\n",
        "print(x)\n",
        "print(x[:2,1:])\n",
        "\n",
        "# Resizing of arrays\n",
        "x1 = th.rand(6,4)\n",
        "print(x1)\n",
        "y = x1.view(8,3)\n",
        "print(y)"
      ],
      "metadata": {
        "colab": {
          "base_uri": "https://localhost:8080/"
        },
        "id": "vV9v6oBC0Dwi",
        "outputId": "67255bda-a835-42bb-b9da-9bf6d971c1e0"
      },
      "execution_count": 32,
      "outputs": [
        {
          "output_type": "stream",
          "name": "stdout",
          "text": [
            "tensor([[0.7074, 0.8045, 0.7126],\n",
            "        [0.7652, 0.8395, 0.5527],\n",
            "        [0.0120, 0.3350, 0.1879],\n",
            "        [0.1043, 0.5347, 0.3281],\n",
            "        [0.6119, 0.0503, 0.8904]])\n",
            "tensor([[0.8045, 0.7126],\n",
            "        [0.8395, 0.5527]])\n",
            "tensor([[0.0627, 0.7673, 0.3015, 0.3048],\n",
            "        [0.0544, 0.3049, 0.4930, 0.5666],\n",
            "        [0.3451, 0.7897, 0.4782, 0.7822],\n",
            "        [0.5691, 0.9212, 0.2465, 0.0348],\n",
            "        [0.8355, 0.6949, 0.6265, 0.4790],\n",
            "        [0.3951, 0.1329, 0.1712, 0.7870]])\n",
            "tensor([[0.0627, 0.7673, 0.3015],\n",
            "        [0.3048, 0.0544, 0.3049],\n",
            "        [0.4930, 0.5666, 0.3451],\n",
            "        [0.7897, 0.4782, 0.7822],\n",
            "        [0.5691, 0.9212, 0.2465],\n",
            "        [0.0348, 0.8355, 0.6949],\n",
            "        [0.6265, 0.4790, 0.3951],\n",
            "        [0.1329, 0.1712, 0.7870]])\n"
          ]
        }
      ]
    },
    {
      "cell_type": "code",
      "source": [
        "import torch as th\n",
        "\n",
        "# Conversion of numpy to tensor\n",
        "a=th.ones(5,3)\n",
        "print(a)\n",
        "b = a.numpy()\n",
        "print(b)\n",
        "print(type(b))\n",
        "\n",
        "# carefull thing\n",
        "a.add_(1)\n",
        "print(a)\n",
        "print(b)\n"
      ],
      "metadata": {
        "colab": {
          "base_uri": "https://localhost:8080/"
        },
        "id": "-di4LAwk2GFk",
        "outputId": "c91cf763-ff82-40ac-8100-87adc9b4b870"
      },
      "execution_count": 39,
      "outputs": [
        {
          "output_type": "stream",
          "name": "stdout",
          "text": [
            "tensor([[1., 1., 1.],\n",
            "        [1., 1., 1.],\n",
            "        [1., 1., 1.],\n",
            "        [1., 1., 1.],\n",
            "        [1., 1., 1.]])\n",
            "[[1. 1. 1.]\n",
            " [1. 1. 1.]\n",
            " [1. 1. 1.]\n",
            " [1. 1. 1.]\n",
            " [1. 1. 1.]]\n",
            "<class 'numpy.ndarray'>\n",
            "tensor([[2., 2., 2.],\n",
            "        [2., 2., 2.],\n",
            "        [2., 2., 2.],\n",
            "        [2., 2., 2.],\n",
            "        [2., 2., 2.]])\n",
            "[[2. 2. 2.]\n",
            " [2. 2. 2.]\n",
            " [2. 2. 2.]\n",
            " [2. 2. 2.]\n",
            " [2. 2. 2.]]\n",
            "[[9. 9. 9.]\n",
            " [9. 9. 9.]\n",
            " [9. 9. 9.]\n",
            " [9. 9. 9.]\n",
            " [9. 9. 9.]]\n",
            "tensor([[2., 2., 2.],\n",
            "        [2., 2., 2.],\n",
            "        [2., 2., 2.],\n",
            "        [2., 2., 2.],\n",
            "        [2., 2., 2.]])\n"
          ]
        }
      ]
    },
    {
      "cell_type": "markdown",
      "source": [],
      "metadata": {
        "id": "xUDTUEZt7Mrr"
      }
    }
  ]
}